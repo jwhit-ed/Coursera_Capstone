{
 "cells": [
  {
   "cell_type": "markdown",
   "id": "6f6a8024",
   "metadata": {},
   "source": [
    "<h2>Capstone Week 4 Project</h2>"
   ]
  },
  {
   "cell_type": "markdown",
   "id": "f297a34f",
   "metadata": {},
   "source": [
    "A description of the problem and a discussion of the background.<br>\n",
    "Determine which of the historical Wards of Houston and the Houston Heights are best suited for investment opprotunities?"
   ]
  },
  {
   "cell_type": "markdown",
   "id": "cc2ec922",
   "metadata": {},
   "source": [
    "A description of the data and how it will be used to solve the problem.<br>\n",
    "The data includes all six of Houston's historical Wards and the Houston Heights area inconjunction with venudes within each region using FourSquare locational data."
   ]
  }
 ],
 "metadata": {
  "kernelspec": {
   "display_name": "Python",
   "language": "python",
   "name": "conda-env-python-py"
  },
  "language_info": {
   "codemirror_mode": {
    "name": "ipython",
    "version": 3
   },
   "file_extension": ".py",
   "mimetype": "text/x-python",
   "name": "python",
   "nbconvert_exporter": "python",
   "pygments_lexer": "ipython3",
   "version": "3.6.13"
  }
 },
 "nbformat": 4,
 "nbformat_minor": 5
}
